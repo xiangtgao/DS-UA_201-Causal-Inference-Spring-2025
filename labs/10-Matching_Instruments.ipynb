{
  "cells": [
    {
      "cell_type": "markdown",
      "metadata": {
        "id": "MKfKn7BANzBf"
      },
      "source": [
        "\n",
        "<div align=\"center\">\n",
        "\n",
        "[![Open in Colab](https://colab.research.google.com/assets/colab-badge.svg)](https://colab.research.google.com/github/xiangtgao/DS-UA_201-Causal-Inference-Spring-2025/blob/main/labs/10-Matching_Instruments.ipynb)\n",
        "\n",
        "</div>"
      ]
    },
    {
      "cell_type": "markdown",
      "source": [
        "$$\n",
        "\\begin{array}{c}\n",
        "\\textbf{CAUSAL INFERENCE}\\\\\\\\\n",
        "\\textbf{Xiang Gao} \\\\\n",
        "\\textit{Center for Data Science, New York University} \\\\\\\\\n",
        "\\textit{Apr 11, 2025}\\\\\\\\\\\\\n",
        "\\text{Materials prepared by: Daniela Pinto Veizaga, Xiang Pan, and Xiang Gao}\n",
        "\\end{array}\n",
        "$$\n",
        "\n",
        "---"
      ],
      "metadata": {
        "id": "hepTgTiYDbGM"
      }
    },
    {
      "cell_type": "markdown",
      "metadata": {
        "id": "TbSgQ3hpbrtw"
      },
      "source": [
        "## Goals For Today\n",
        "\n",
        "1. Matching\n",
        "2. Understand what instrumental variables (IVs) are and when they are used.\n",
        "3. Explore the assumptions needed for an IV to yield valid causal estimates.\n"
      ]
    },
    {
      "cell_type": "markdown",
      "source": [
        "## Matching"
      ],
      "metadata": {
        "id": "hHKXFXCoDq32"
      }
    },
    {
      "cell_type": "markdown",
      "source": [
        "To obtain treated and control groups with similar covariate distributions.\n",
        "\n",
        "We have multiple subgroups based on the control variables and $S \\perp U | C$, we can use the matching estimator:\n",
        "\n",
        "$$\n",
        "\\begin{aligned}\n",
        "\\operatorname{Matching}\n",
        "& =  \\sum_{c \\in C} \\left( \\mathbb{E}[Y \\mid S=1, C = c] - \\mathbb{E}[Y \\mid S=0, C = c] \\right) \\cdot \\mathbb{P}(C = c)\n",
        "\\end{aligned}\n",
        "$$"
      ],
      "metadata": {
        "id": "Ad9CzvrMD98A"
      }
    },
    {
      "cell_type": "markdown",
      "source": [
        "### Regression (weight is not the probability)\n"
      ],
      "metadata": {
        "id": "ny91NJZFFqtD"
      }
    },
    {
      "cell_type": "markdown",
      "source": [
        "\\begin{align}\n",
        "\\alpha_1=\\sum_{k=1}^K E\\left[Y(S=1, U)-Y(S=0, U) \\mid \\mathbf{C}=\\mathbf{c}_k\\right] W\\left(\\mathbf{C}=\\mathbf{c}_k\\right)\n",
        "\\end{align}\n",
        "\n",
        "$W$ is the weight of the subgroup, which might not be the same as the probability of the subgroup.\n",
        "\n",
        "$$\n",
        "\\begin{aligned}\n",
        "W(C = c_k) \\neq \\mathbb{P}(C = c_k)\n",
        "\\end{aligned}\n",
        "$$\n",
        "\n"
      ],
      "metadata": {
        "id": "G-RHBGHWFriE"
      }
    },
    {
      "cell_type": "markdown",
      "source": [
        "We can look at the example from last time:"
      ],
      "metadata": {
        "id": "XlQAex9YG8MC"
      }
    },
    {
      "cell_type": "code",
      "source": [
        "import pandas as pd\n",
        "import numpy as np\n",
        "import matplotlib.pyplot as plt\n",
        "import statsmodels.formula.api as sm"
      ],
      "metadata": {
        "id": "bbCEBVFrF7nV"
      },
      "execution_count": 2,
      "outputs": []
    },
    {
      "cell_type": "code",
      "source": [
        "# Step 1: Simulate family status (rich=1, poor=0)\n",
        "np.random.seed(42)\n",
        "n = 1000\n",
        "family_status = np.random.binomial(1, 0.4, n)  # 40% rich, 60% poor\n",
        "\n",
        "# Step 2: Simulate college attendance based on family status (rich more likely to attend college)\n",
        "college = np.random.binomial(1, 0.7 * family_status + 0.3 * (1 - family_status), n)\n",
        "\n",
        "# Step 3: Simulate income based on family status and college attendance\n",
        "\n",
        "noise = np.random.normal(0, 5000, n)  # Noise to add to income\n",
        "income_observe = (50000 + 30000 * college + 20000 * family_status + noise)\n",
        "income_college = (50000 + 30000 * 1 + 20000 * family_status + noise)\n",
        "\n",
        "# For people who went to college (treated group), compared to the untreated,\n",
        "# they would have higher income in the counterfactual world where they did not go to college\n",
        "income_no_college = (50000 + 30000 * 0 + 10000 * college + 20000 * family_status + noise)\n",
        "\n",
        "# Create a DataFrame for clarity\n",
        "df = pd.DataFrame({\n",
        "    'Family_Status': family_status,  # 1 = rich, 0 = poor\n",
        "    'College': college,  # 1 = went to college, 0 = did not go to college\n",
        "    'Income_Observe': income_observe,\n",
        "    'Income_College': income_college,\n",
        "    'Income_No_College': income_no_college\n",
        "})"
      ],
      "metadata": {
        "id": "gdluz_p-F0UL"
      },
      "execution_count": 3,
      "outputs": []
    },
    {
      "cell_type": "code",
      "source": [
        "# Step 4: Compute ATE, ATT, ATU\n",
        "# TRUE ATE:\n",
        "ATE = df['Income_College'].mean() - df['Income_No_College'].mean()\n",
        "\n",
        "# ATT:\n",
        "ATT = df[(df['College'] == 1)]['Income_College'].mean() - df[(df['College'] == 1)]['Income_No_College'].mean()\n",
        "\n",
        "# ATU:\n",
        "ATU = df[(df['College'] == 0)]['Income_College'].mean() - df[(df['College'] == 0)]['Income_No_College'].mean()\n",
        "\n",
        "# Print the results\n",
        "print(f\"TRUE Average Treatment Effect (ATE): {ATE:.2f}\")\n",
        "print(f\"TRUE Average Treatment Effect on the Treated (ATT): {ATT:.2f}\")\n",
        "print(f\"TRUE Average Treatment Effect on the Untreated (ATU): {ATU:.2f}\")"
      ],
      "metadata": {
        "colab": {
          "base_uri": "https://localhost:8080/"
        },
        "id": "YwM6hMmUF_eK",
        "outputId": "8b81053a-0c59-4f2e-ef13-0fbacc9e16e8"
      },
      "execution_count": 4,
      "outputs": [
        {
          "output_type": "stream",
          "name": "stdout",
          "text": [
            "TRUE Average Treatment Effect (ATE): 25560.00\n",
            "TRUE Average Treatment Effect on the Treated (ATT): 20000.00\n",
            "TRUE Average Treatment Effect on the Untreated (ATU): 30000.00\n"
          ]
        }
      ]
    },
    {
      "cell_type": "code",
      "source": [
        "# Step 6: Condition on confounder - family status\n",
        "\n",
        "ATE_family_1 = df[(df['College'] == 1) & (df['Family_Status'] == 1)]['Income_Observe'].mean() - df[(df['College'] == 0) & (df['Family_Status'] == 1)]['Income_Observe'].mean()\n",
        "\n",
        "# Print the results\n",
        "print(f\"ATE for those with family_status = 1: {ATE_family_1:.2f}\")\n",
        "\n",
        "ATE_family_0 = df[(df['College'] == 1) & (df['Family_Status'] == 0)]['Income_Observe'].mean() - df[(df['College'] == 0) & (df['Family_Status'] == 0)]['Income_Observe'].mean()\n",
        "\n",
        "# Print the results\n",
        "print(f\"ATE for those with family_status = 0: {ATE_family_0:.2f}\")"
      ],
      "metadata": {
        "colab": {
          "base_uri": "https://localhost:8080/"
        },
        "id": "sqMpYEJHF_wV",
        "outputId": "e2275eff-e3ea-41b2-c263-4f3bb40ae419"
      },
      "execution_count": 5,
      "outputs": [
        {
          "output_type": "stream",
          "name": "stdout",
          "text": [
            "ATE for those with family_status = 1: 30553.75\n",
            "ATE for those with family_status = 0: 30308.08\n"
          ]
        }
      ]
    },
    {
      "cell_type": "code",
      "source": [
        "proportions = df['Family_Status'].value_counts()/len(df)\n",
        "proportions"
      ],
      "metadata": {
        "colab": {
          "base_uri": "https://localhost:8080/",
          "height": 178
        },
        "id": "5NeiIrNgGcHb",
        "outputId": "c92198f8-22ad-4085-c69b-980cdda1aa71"
      },
      "execution_count": 11,
      "outputs": [
        {
          "output_type": "execute_result",
          "data": {
            "text/plain": [
              "Family_Status\n",
              "0    0.613\n",
              "1    0.387\n",
              "Name: count, dtype: float64"
            ],
            "text/html": [
              "<div>\n",
              "<style scoped>\n",
              "    .dataframe tbody tr th:only-of-type {\n",
              "        vertical-align: middle;\n",
              "    }\n",
              "\n",
              "    .dataframe tbody tr th {\n",
              "        vertical-align: top;\n",
              "    }\n",
              "\n",
              "    .dataframe thead th {\n",
              "        text-align: right;\n",
              "    }\n",
              "</style>\n",
              "<table border=\"1\" class=\"dataframe\">\n",
              "  <thead>\n",
              "    <tr style=\"text-align: right;\">\n",
              "      <th></th>\n",
              "      <th>count</th>\n",
              "    </tr>\n",
              "    <tr>\n",
              "      <th>Family_Status</th>\n",
              "      <th></th>\n",
              "    </tr>\n",
              "  </thead>\n",
              "  <tbody>\n",
              "    <tr>\n",
              "      <th>0</th>\n",
              "      <td>0.613</td>\n",
              "    </tr>\n",
              "    <tr>\n",
              "      <th>1</th>\n",
              "      <td>0.387</td>\n",
              "    </tr>\n",
              "  </tbody>\n",
              "</table>\n",
              "</div><br><label><b>dtype:</b> float64</label>"
            ]
          },
          "metadata": {},
          "execution_count": 11
        }
      ]
    },
    {
      "cell_type": "code",
      "source": [
        "var_family_0 = df[df['Family_Status'] == 0][\"College\"].var()\n",
        "var_family_1 = df[df['Family_Status'] == 1][\"College\"].var()\n",
        "print(f\"Variance of treatment for Family Status = 0: {var_family_0:.4f}\")\n",
        "print(f\"Variance of treatment for Family Status = 1: {var_family_1:.4f}\")"
      ],
      "metadata": {
        "colab": {
          "base_uri": "https://localhost:8080/"
        },
        "id": "PueiNZwoHVG0",
        "outputId": "33aa570d-65fa-489d-90fe-a3f1fafd9f48"
      },
      "execution_count": 20,
      "outputs": [
        {
          "output_type": "stream",
          "name": "stdout",
          "text": [
            "Variance of treatment for Family Status = 0: 0.2091\n",
            "Variance of treatment for Family Status = 1: 0.2192\n"
          ]
        }
      ]
    },
    {
      "cell_type": "code",
      "source": [
        "# The matching estimator for ATE is\n",
        "ATE_matching = ATE_family_1 * proportions[1] + ATE_family_0 * proportions[0]\n",
        "print(f\"Matching estimate for ATE: {ATE_matching:.2f}\")"
      ],
      "metadata": {
        "colab": {
          "base_uri": "https://localhost:8080/"
        },
        "id": "vXyecCgGGMvY",
        "outputId": "140916ae-8a55-4714-f4d4-fab1c0ea3be0"
      },
      "execution_count": 15,
      "outputs": [
        {
          "output_type": "stream",
          "name": "stdout",
          "text": [
            "Matching estimator for ATE: 30403.15\n"
          ]
        }
      ]
    },
    {
      "cell_type": "markdown",
      "source": [
        "Now, let us compare to the regression estimate:"
      ],
      "metadata": {
        "id": "VIpTTNo8HChd"
      }
    },
    {
      "cell_type": "code",
      "source": [
        "ols=sm.ols(formula='Income_Observe~College+Family_Status', data=df).fit()\n",
        "ols.summary()"
      ],
      "metadata": {
        "colab": {
          "base_uri": "https://localhost:8080/",
          "height": 473
        },
        "id": "HZJp5UaoHJiQ",
        "outputId": "7713a8af-1665-41f5-933d-bf03bd3ab212"
      },
      "execution_count": 16,
      "outputs": [
        {
          "output_type": "execute_result",
          "data": {
            "text/plain": [
              "<class 'statsmodels.iolib.summary.Summary'>\n",
              "\"\"\"\n",
              "                            OLS Regression Results                            \n",
              "==============================================================================\n",
              "Dep. Variable:         Income_Observe   R-squared:                       0.947\n",
              "Model:                            OLS   Adj. R-squared:                  0.947\n",
              "Method:                 Least Squares   F-statistic:                     8981.\n",
              "Date:                Fri, 11 Apr 2025   Prob (F-statistic):               0.00\n",
              "Time:                        09:09:48   Log-Likelihood:                -9912.8\n",
              "No. Observations:                1000   AIC:                         1.983e+04\n",
              "Df Residuals:                     997   BIC:                         1.985e+04\n",
              "Df Model:                           2                                         \n",
              "Covariance Type:            nonrobust                                         \n",
              "=================================================================================\n",
              "                    coef    std err          t      P>|t|      [0.025      0.975]\n",
              "---------------------------------------------------------------------------------\n",
              "Intercept      4.996e+04    221.278    225.780      0.000    4.95e+04    5.04e+04\n",
              "College        3.041e+04    335.519     90.623      0.000    2.97e+04    3.11e+04\n",
              "Family_Status   1.98e+04    342.263     57.864      0.000    1.91e+04    2.05e+04\n",
              "==============================================================================\n",
              "Omnibus:                        1.170   Durbin-Watson:                   2.050\n",
              "Prob(Omnibus):                  0.557   Jarque-Bera (JB):                1.054\n",
              "Skew:                           0.025   Prob(JB):                        0.590\n",
              "Kurtosis:                       3.151   Cond. No.                         3.09\n",
              "==============================================================================\n",
              "\n",
              "Notes:\n",
              "[1] Standard Errors assume that the covariance matrix of the errors is correctly specified.\n",
              "\"\"\""
            ],
            "text/html": [
              "<table class=\"simpletable\">\n",
              "<caption>OLS Regression Results</caption>\n",
              "<tr>\n",
              "  <th>Dep. Variable:</th>     <td>Income_Observe</td>  <th>  R-squared:         </th> <td>   0.947</td> \n",
              "</tr>\n",
              "<tr>\n",
              "  <th>Model:</th>                   <td>OLS</td>       <th>  Adj. R-squared:    </th> <td>   0.947</td> \n",
              "</tr>\n",
              "<tr>\n",
              "  <th>Method:</th>             <td>Least Squares</td>  <th>  F-statistic:       </th> <td>   8981.</td> \n",
              "</tr>\n",
              "<tr>\n",
              "  <th>Date:</th>             <td>Fri, 11 Apr 2025</td> <th>  Prob (F-statistic):</th>  <td>  0.00</td>  \n",
              "</tr>\n",
              "<tr>\n",
              "  <th>Time:</th>                 <td>09:09:48</td>     <th>  Log-Likelihood:    </th> <td> -9912.8</td> \n",
              "</tr>\n",
              "<tr>\n",
              "  <th>No. Observations:</th>      <td>  1000</td>      <th>  AIC:               </th> <td>1.983e+04</td>\n",
              "</tr>\n",
              "<tr>\n",
              "  <th>Df Residuals:</th>          <td>   997</td>      <th>  BIC:               </th> <td>1.985e+04</td>\n",
              "</tr>\n",
              "<tr>\n",
              "  <th>Df Model:</th>              <td>     2</td>      <th>                     </th>     <td> </td>    \n",
              "</tr>\n",
              "<tr>\n",
              "  <th>Covariance Type:</th>      <td>nonrobust</td>    <th>                     </th>     <td> </td>    \n",
              "</tr>\n",
              "</table>\n",
              "<table class=\"simpletable\">\n",
              "<tr>\n",
              "        <td></td>           <th>coef</th>     <th>std err</th>      <th>t</th>      <th>P>|t|</th>  <th>[0.025</th>    <th>0.975]</th>  \n",
              "</tr>\n",
              "<tr>\n",
              "  <th>Intercept</th>     <td> 4.996e+04</td> <td>  221.278</td> <td>  225.780</td> <td> 0.000</td> <td> 4.95e+04</td> <td> 5.04e+04</td>\n",
              "</tr>\n",
              "<tr>\n",
              "  <th>College</th>       <td> 3.041e+04</td> <td>  335.519</td> <td>   90.623</td> <td> 0.000</td> <td> 2.97e+04</td> <td> 3.11e+04</td>\n",
              "</tr>\n",
              "<tr>\n",
              "  <th>Family_Status</th> <td>  1.98e+04</td> <td>  342.263</td> <td>   57.864</td> <td> 0.000</td> <td> 1.91e+04</td> <td> 2.05e+04</td>\n",
              "</tr>\n",
              "</table>\n",
              "<table class=\"simpletable\">\n",
              "<tr>\n",
              "  <th>Omnibus:</th>       <td> 1.170</td> <th>  Durbin-Watson:     </th> <td>   2.050</td>\n",
              "</tr>\n",
              "<tr>\n",
              "  <th>Prob(Omnibus):</th> <td> 0.557</td> <th>  Jarque-Bera (JB):  </th> <td>   1.054</td>\n",
              "</tr>\n",
              "<tr>\n",
              "  <th>Skew:</th>          <td> 0.025</td> <th>  Prob(JB):          </th> <td>   0.590</td>\n",
              "</tr>\n",
              "<tr>\n",
              "  <th>Kurtosis:</th>      <td> 3.151</td> <th>  Cond. No.          </th> <td>    3.09</td>\n",
              "</tr>\n",
              "</table><br/><br/>Notes:<br/>[1] Standard Errors assume that the covariance matrix of the errors is correctly specified."
            ],
            "text/latex": "\\begin{center}\n\\begin{tabular}{lclc}\n\\toprule\n\\textbf{Dep. Variable:}    & Income\\_Observe  & \\textbf{  R-squared:         } &     0.947   \\\\\n\\textbf{Model:}            &       OLS        & \\textbf{  Adj. R-squared:    } &     0.947   \\\\\n\\textbf{Method:}           &  Least Squares   & \\textbf{  F-statistic:       } &     8981.   \\\\\n\\textbf{Date:}             & Fri, 11 Apr 2025 & \\textbf{  Prob (F-statistic):} &     0.00    \\\\\n\\textbf{Time:}             &     09:09:48     & \\textbf{  Log-Likelihood:    } &   -9912.8   \\\\\n\\textbf{No. Observations:} &        1000      & \\textbf{  AIC:               } & 1.983e+04   \\\\\n\\textbf{Df Residuals:}     &         997      & \\textbf{  BIC:               } & 1.985e+04   \\\\\n\\textbf{Df Model:}         &           2      & \\textbf{                     } &             \\\\\n\\textbf{Covariance Type:}  &    nonrobust     & \\textbf{                     } &             \\\\\n\\bottomrule\n\\end{tabular}\n\\begin{tabular}{lcccccc}\n                        & \\textbf{coef} & \\textbf{std err} & \\textbf{t} & \\textbf{P$> |$t$|$} & \\textbf{[0.025} & \\textbf{0.975]}  \\\\\n\\midrule\n\\textbf{Intercept}      &    4.996e+04  &      221.278     &   225.780  &         0.000        &     4.95e+04    &     5.04e+04     \\\\\n\\textbf{College}        &    3.041e+04  &      335.519     &    90.623  &         0.000        &     2.97e+04    &     3.11e+04     \\\\\n\\textbf{Family\\_Status} &     1.98e+04  &      342.263     &    57.864  &         0.000        &     1.91e+04    &     2.05e+04     \\\\\n\\bottomrule\n\\end{tabular}\n\\begin{tabular}{lclc}\n\\textbf{Omnibus:}       &  1.170 & \\textbf{  Durbin-Watson:     } &    2.050  \\\\\n\\textbf{Prob(Omnibus):} &  0.557 & \\textbf{  Jarque-Bera (JB):  } &    1.054  \\\\\n\\textbf{Skew:}          &  0.025 & \\textbf{  Prob(JB):          } &    0.590  \\\\\n\\textbf{Kurtosis:}      &  3.151 & \\textbf{  Cond. No.          } &     3.09  \\\\\n\\bottomrule\n\\end{tabular}\n%\\caption{OLS Regression Results}\n\\end{center}\n\nNotes: \\newline\n [1] Standard Errors assume that the covariance matrix of the errors is correctly specified."
          },
          "metadata": {},
          "execution_count": 16
        }
      ]
    },
    {
      "cell_type": "markdown",
      "source": [
        "Let's see why the weight in regression relates to the treatment variance!\n",
        "\n",
        "Say we have two groups, 1 and 2.\n",
        "What we are doing is to estimate $\\beta$ (we are using the traditional linear regression notation here).\n",
        "\n",
        "$$\n",
        "Y = X \\beta + \\epsilon\n",
        "$$\n",
        "\n",
        "\n",
        "\\begin{align}\n",
        "X=\\left[\\begin{array}{l}\n",
        "X_1 \\\\\n",
        "X_2\n",
        "\\end{array}\\right] \\quad \\text { and } \\quad Y=\\left[\\begin{array}{l}\n",
        "Y_1 \\\\\n",
        "Y_2\n",
        "\\end{array}\\right]\n",
        "\\end{align}"
      ],
      "metadata": {
        "id": "WVPm7l5eNV0G"
      }
    },
    {
      "cell_type": "markdown",
      "source": [
        "\\begin{align}\n",
        "X^T X=X_1^T X_1+X_2^T X_2 \\quad \\text { and } \\quad X^T Y=X_1^T Y_1+X_2^T Y_2\n",
        "\\end{align}\n",
        "\n",
        "\\begin{align}\n",
        "\\hat{\\beta}_{\\text {pooled }}=\\left(X_1^T X_1+X_2^T X_2\\right)^{-1}\\left(X_1^T Y_1+X_2^T Y_2\\right)\n",
        "\\end{align}\n",
        "\n",
        "\\begin{align}\n",
        "\\hat{\\beta}_{\\text {pooled }}=W_1 \\hat{\\beta}_1+W_2 \\hat{\\beta}_2\n",
        "\\end{align}\n",
        "\n",
        "\\begin{align}\n",
        "\\hat{\\beta}_1=\\left(X_1^T X_1\\right)^{-1} X_1^T Y_1 \\quad \\text { and } \\quad \\hat{\\beta}_2=\\left(X_2^T X_2\\right)^{-1} X_2^T Y_2\n",
        "\\end{align}\n",
        "\n",
        "\\begin{align}\n",
        "\\hat{\\beta}_{\\text {pooled }}=\\left(X_1^T X_1+X_2^T X_2\\right)^{-1}\\left(X_1^T X_1 \\hat{\\beta}_1+X_2^T X_2 \\hat{\\beta}_2\\right)\n",
        "\\end{align}"
      ],
      "metadata": {
        "id": "sqngXuwRNgCN"
      }
    },
    {
      "cell_type": "markdown",
      "source": [
        "\\begin{align}\n",
        "W_1=\\left(X_1^T X_1+X_2^T X_2\\right)^{-1} X_1^T X_1\n",
        "\\end{align}\n",
        "\n",
        "\\begin{align}\n",
        "W_2=\\left(X_1^T X_1+X_2^T X_2\\right)^{-1} X_2^T X_2\n",
        "\\end{align}"
      ],
      "metadata": {
        "id": "t3vuglF8NwtT"
      }
    },
    {
      "cell_type": "markdown",
      "source": [
        "Map back to our problem, the $X$ is the treatment variable, and the $Y$ is the outcome variable.\n",
        "\n",
        "Therefore, larger treatment variance will have larger weight."
      ],
      "metadata": {
        "id": "owoycNRyN7sf"
      }
    },
    {
      "cell_type": "markdown",
      "source": [
        "### Curse of Dimensionality (matching)"
      ],
      "metadata": {
        "id": "zzFiur4wFWDY"
      }
    },
    {
      "cell_type": "markdown",
      "source": [
        "If you have large number of control variables, say k, and we assume the control variables are binary, then the number of subgroups you need to match is $2^k$.\n",
        "\n",
        "If you have continuous control variables, you can discretize them into bins, and the number of subgroups you need to match is the number of bins.\n",
        "1. What if there is only one in the bin?\n",
        "   1. Increase the size of the bin (less accurate, loss of information)\n",
        "   2. Remove the data point (less observations)\n"
      ],
      "metadata": {
        "id": "su-d8FjsFZpZ"
      }
    },
    {
      "cell_type": "markdown",
      "source": [
        "## Instrumental Variables"
      ],
      "metadata": {
        "id": "Z9IEtQf-FYT9"
      }
    },
    {
      "cell_type": "markdown",
      "metadata": {
        "id": "X7w3PI5eCCbc"
      },
      "source": [
        "Imagine we want to estimate the **causal effect** of a treatment variable, $S$, on some outcome, $Y$. But there’s a problem: we suspect that $S$ is **correlated with unobserved factors** that also affect $Y$. These unobserved factors are captured by the variable $U$. This means:\n",
        "\n",
        "$$S \\not\\!\\perp\\!\\!\\!\\perp U,$$\n",
        "\n",
        "In other words, $S$ and $U$ are related, which can lead to **biased and inconsistent estimates** when we try to estimate the causal effect of $S$ on $Y$.\n",
        "\n",
        "> **But is there a way to estimate the causal effect despite this problem?**  \n",
        "**Yes!** We can use an **instrumental variable (IV)** to help us out.\n",
        "\n",
        "### What is an Instrumental Variable?\n",
        "\n",
        "An **instrumental variable (IV)**, denoted by $Z$, is a variable that:\n",
        "- **Affects** the treatment variable $S$.\n",
        "- Has **no direct effect** on the outcome variable $Y$.\n",
        "- Is **independent** of the unobserved confounders $U$ that are correlated with both $S$ and $Y$.\n",
        "\n",
        "The goal is that the instrument $Z$ can help us isolate the variation in $S$ that is **uncorrelated** with the unobserved confounders $U$, allowing us to estimate a more accurate causal effect.\n",
        "\n",
        "<img src=\"https://raw.githubusercontent.com/dapivei/causal-infere/main/images/instrument.png\" width=\"500\"/>\n",
        "\n",
        "### When Should We Use IVs?\n",
        "\n",
        "Instrumental Variables are especially useful when:\n",
        "> - The treatment variable $S$ suffers from **measurement error**, **omitted variable bias**, or **reverse causality** (where $Y$ affects $S$ instead of the other way around).\n",
        "\n",
        "### Key Assumptions for a Valid Instrument\n",
        "\n",
        "For $Z$ to be a valid instrument, it must satisfy three important assumptions:\n",
        "\n",
        "1. **Exogeneity**:  \n",
        "   The instrument $Z$ must be **uncorrelated** with the error term $U$ (or other unobserved factors that affect $S$), i.e., $Z$ must not be influenced by any variables that also affect $Y$. This assumption ensures that $Z$ affects $S$ but not $Y$ directly.  \n",
        "   $$ U \\perp Z \\quad \\text{and} \\quad V \\perp Z $$\n",
        "\n",
        "2. **Relevance**:  \n",
        "   The instrument $Z$ must have a **significant** effect on the treatment $S$. In other words, $Z$ should change the likelihood that someone receives the treatment $S$, at least for some sub-group of the population.  \n",
        "   $$ S(Z=1, V) \\neq S(Z=0, V) $$\n",
        "\n",
        "3. **Monotonicity**:  \n",
        "   The instrument $Z$ must affect $S$ in the **same direction** for all individuals. That is, $Z$ should only either **increase** or **decrease** the likelihood of receiving treatment, but not both.  \n",
        "   $$ S(Z=1, V) > S(Z=0, V) $$\n",
        "\n",
        "### Local Average Treatment Effect (LATE)\n",
        "\n",
        "If these assumptions hold, we can estimate the **Local Average Treatment Effect (LATE)**. This is the causal effect of $S$ on $Y$ for a specific group of people called the **compliers**—those whose treatment status is affected by the instrument $Z$.\n",
        "\n",
        "> **Compliers** are individuals whose treatment $S$ is influenced by the instrument $Z$. They are the population we can estimate the causal effect for using IVs.\n",
        "\n",
        "\n",
        "### Types of Individuals in IV Analysis\n",
        "\n",
        "The population can be divided into four groups based on how they respond to the instrument $Z$:\n",
        "\n",
        "1. **Always-takers**: These individuals always take the treatment, regardless of the instrument $Z$.  \n",
        "   $$ S(Z=1, V) = S(Z=0, V) = 1 $$\n",
        "\n",
        "2. **Never-takers**: These individuals never take the treatment, regardless of the instrument $Z$.  \n",
        "   $$ S(Z=1, V) = S(Z=0, V) = 0 $$\n",
        "\n",
        "3. **Compliers**: These individuals comply with the instrument. They take the treatment when $Z = 1$, but not when $Z = 0$.  \n",
        "   $$ S(Z=1, V) = 1 \\quad \\text{and} \\quad S(Z=0, V) = 0 $$\n",
        "\n",
        "4. **Defiers**: These individuals do the opposite of what the instrument suggests. They take the treatment when $Z = 0$, but not when $Z = 1$.  \n",
        "   $$ S(Z=1, V) = 0 \\quad \\text{and} \\quad S(Z=0, V) = 1 $$"
      ]
    }
  ],
  "metadata": {
    "colab": {
      "provenance": []
    },
    "kernelspec": {
      "display_name": "Python 3",
      "name": "python3"
    },
    "language_info": {
      "name": "python"
    }
  },
  "nbformat": 4,
  "nbformat_minor": 0
}