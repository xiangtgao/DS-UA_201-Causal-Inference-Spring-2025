{
  "cells": [
    {
      "cell_type": "markdown",
      "metadata": {
        "id": "DQLNpzhJBsjA"
      },
      "source": [
        "\n",
        "<div align=\"center\">\n",
        "\n",
        "[![Open in Colab](https://colab.research.google.com/assets/colab-badge.svg)](https://colab.research.google.com/github/xiangtgao/DS-UA_201-Causal-Inference-Spring-2025/blob/main/labs/9-Control_Variables.ipynb)\n",
        "\n",
        "</div>\n",
        "\n",
        "\n",
        "\n",
        "\n"
      ]
    },
    {
      "cell_type": "markdown",
      "source": [
        "$$\n",
        "\\begin{array}{c}\n",
        "\\textbf{CAUSAL INFERENCE}\\\\\\\\\n",
        "\\textbf{Xiang Gao} \\\\\n",
        "\\textit{Center for Data Science, New York University} \\\\\\\\\n",
        "\\textit{Apr 4, 2025}\\\\\\\\\\\\\n",
        "\\text{Materials prepared by: Daniela Pinto Veizaga, Xiang Pan, and Xiang Gao}\n",
        "\\end{array}\n",
        "$$\n",
        "\n",
        "---"
      ],
      "metadata": {
        "id": "EyMfu7GZFBT7"
      }
    },
    {
      "cell_type": "markdown",
      "metadata": {
        "id": "jBtUTVEY86Xj"
      },
      "source": [
        "## Control Variables"
      ]
    },
    {
      "cell_type": "markdown",
      "metadata": {
        "id": "OhAq2djBZEsX"
      },
      "source": [
        "If the data-generating processes were not naturally randomizing treatment, we can seek to adjust the population in the treatment and control groups.\n",
        "\n",
        "One adjustment method is through controlling or conditioning on other factors $C$ such that\n",
        "\n",
        "\\begin{equation}\n",
        "S \\perp U \\ | \\ C\n",
        "\\end{equation}\n",
        "\n",
        "In this case, we can say that $S$ and $U$ are **conditionally independent** given $C$."
      ]
    },
    {
      "cell_type": "markdown",
      "metadata": {
        "id": "OLqLFs0KbaZZ"
      },
      "source": [
        "### Independence Recap"
      ]
    },
    {
      "cell_type": "markdown",
      "metadata": {
        "id": "hA8j_ZuMjlzj"
      },
      "source": [
        "Independence plays a central role in our arguments for the identification of causal parameters.\n",
        "\n",
        "$$\n",
        "P(X \\in A, Y \\in B) = P(X \\in A)P(Y \\in B)\n",
        "$$\n",
        "\n",
        "Also,\n",
        "\n",
        "$$\n",
        "P(Y|X) = P(Y) \\ \\ \\text{and} \\ \\ P(X|Y) = P(X)\n",
        "$$\n",
        "\n",
        "If two variables are independent, then knowing the value of one variable does not provide additional information about the other.\n",
        "\n",
        "Also, independent variables have a covariance of 0 and are, therefore, uncorrelated.\n",
        "- Proof in lecture slides by showing $E[XY]=E[X]E[Y]$"
      ]
    },
    {
      "cell_type": "markdown",
      "metadata": {
        "id": "gWilxIEw09bW"
      },
      "source": [
        "We've seen that independence implies 0 covariance and uncorrelatedness.\n",
        "\n",
        "However, the converse statement is false. Independence is not necessary for uncorrelatedness."
      ]
    },
    {
      "cell_type": "markdown",
      "metadata": {
        "id": "t4MaCdRzbuUH"
      },
      "source": [
        "### Conditional Independence"
      ]
    },
    {
      "cell_type": "markdown",
      "metadata": {
        "id": "jtY7V8wLdsgP"
      },
      "source": [
        "$$\n",
        "P(X \\in A, Y \\in B | Z) = P(X \\in A|Z)P(Y \\in B|Z)\n",
        "$$\n",
        "\n",
        "Also,\n",
        "\n",
        "$$\n",
        "P(Y|X, Z) = P(Y|Z) \\ \\ \\text{and} \\ \\ P(X|Y, Z) = P(X | Z)\n",
        "$$\n",
        "\n",
        "$X$ and $Y$ have no relationship if we account for the value taken by some other variable $Z$. For example, knowing $X$, if we already know $Z$, this does not influence our estimate of $Y$."
      ]
    },
    {
      "cell_type": "code",
      "source": [
        "import pandas as pd\n",
        "import numpy as np\n",
        "import matplotlib.pyplot as plt\n",
        "import statsmodels.formula.api as sm"
      ],
      "metadata": {
        "id": "35NtGnQVXC1f"
      },
      "execution_count": 2,
      "outputs": []
    },
    {
      "cell_type": "code",
      "execution_count": 3,
      "metadata": {
        "colab": {
          "base_uri": "https://localhost:8080/"
        },
        "id": "WG90QRNFn-Zh",
        "outputId": "942ed83b-5294-4e34-c135-ecd0a8957b19"
      },
      "outputs": [
        {
          "output_type": "stream",
          "name": "stdout",
          "text": [
            "Covariance of independent variables: -0.09712712712712727\n",
            "Covariance of dependent variables Y and Z: 25.55082953533942\n",
            "Covariance of dependent variables Y and Z condition on X = 1: -0.16950780028113066\n",
            "Covariance of dependent variables Y and Z condition on X = 2: -0.2008651282600672\n",
            "Covariance of dependent variables Y and Z condition on X = 3: -0.039116306498144265\n",
            "Covariance of dependent variables Y and Z condition on X = 4: 0.12289574759251388\n",
            "Covariance of dependent variables Y and Z condition on X = 5: -0.021864156396484553\n",
            "Covariance of dependent variables Y and Z condition on X = 6: -0.022540072239564873\n",
            "Covariance of dependent variables Y and Z condition on X = 7: -0.051055281115317146\n",
            "Covariance of dependent variables Y and Z condition on X = 8: -0.1343325234297629\n",
            "Covariance of dependent variables Y and Z condition on X = 9: -0.09652086587770842\n"
          ]
        }
      ],
      "source": [
        "# simulate independent random variables\n",
        "np.random.seed(201)\n",
        "X_ind = np.random.randint(1, 7, 1000)  # Roll of die 1\n",
        "Y_ind = np.random.randint(1, 7, 1000)  # Roll of die 2\n",
        "\n",
        "# calculate covariance of independent variables\n",
        "cov_ind = np.cov(X_ind, Y_ind)[0, 1]\n",
        "print(f\"Covariance of independent variables: {cov_ind}\")\n",
        "\n",
        "# simulate dependent variables\n",
        "X_dep = np.random.randint(1, 10, 1000)\n",
        "Y_dep = 2 * X_dep + np.random.normal(0, 1, 1000)\n",
        "Z_dep = 2 * X_dep + np.random.normal(0, 1, 1000)\n",
        "\n",
        "# calculate covariance of dependent variables\n",
        "cov_dep = np.cov(Y_dep, Z_dep)[0, 1]\n",
        "print(f\"Covariance of dependent variables Y and Z: {cov_dep}\")\n",
        "\n",
        "# calculate covariance of dependent variables condition on X\n",
        "for X_value in range(1, 10):\n",
        "  cov_dep = np.cov(Y_dep[X_dep==X_value], Z_dep[X_dep==X_value])[0, 1]\n",
        "  print(f\"Covariance of dependent variables Y and Z condition on X = {X_value}: {cov_dep}\")"
      ]
    },
    {
      "cell_type": "markdown",
      "metadata": {
        "id": "Woa8yYHxpBzL"
      },
      "source": [
        "Graphically, what does conditional independence look like?"
      ]
    },
    {
      "cell_type": "markdown",
      "metadata": {
        "id": "Q9EFZRWkpFmd"
      },
      "source": [
        "![Indep](https://www.cs.cmu.edu/~15281-f23/coursenotes/bayesnets/images/bayes_ball.png)"
      ]
    },
    {
      "cell_type": "markdown",
      "metadata": {
        "id": "QLzGx-pVqUOD"
      },
      "source": [
        "For more intuitive examples, feel free to check out https://www.andrew.cmu.edu/user/scheines/tutor/d-sep.html"
      ]
    },
    {
      "cell_type": "markdown",
      "metadata": {
        "id": "YimL96iRjXmf"
      },
      "source": [
        "### Revisiting -  Revisiting All Causes Model"
      ]
    },
    {
      "cell_type": "markdown",
      "metadata": {
        "id": "Rj603pnafEQO"
      },
      "source": [
        "We have actually covered control variables in Lab 3 if you remember.\n",
        "\n",
        "Let's review some old concepts and revisit the example again with our new knowledge on regression and experiments."
      ]
    },
    {
      "cell_type": "markdown",
      "metadata": {
        "id": "mgHZKqv-jasX"
      },
      "source": [
        "#### Definition\n",
        "\n",
        "All causes model:\n",
        "\n",
        "$$Y(S, U)$$\n",
        "\n",
        "where $Y$ is the outcome, $S$ is the state of the world, and $U$ is other factors we observe that influence $Y$.\n",
        "\n",
        "Also, for simplicity, consider $S$ as a binary treatment variable (0 or 1).\n",
        "\n",
        "Causal quantities of interest:\n",
        "\n",
        "$$\n",
        "\\begin{align}\n",
        "\\text{ATE} &= E[Y(S=1, U) - Y(S=0, U)]\\\\\n",
        "\\text{ATT} &= E[Y(S=1, U) - Y(S=0, U)|S=1]\\\\\n",
        "\\text{ATU} &= E[Y(S=1, U) - Y(S=0, U)|S=0]\n",
        "\\end{align}\n",
        "$$\n",
        "\n",
        "**Fundamental problem of causal inference**: we only get to see one of $Y(S=1, U)$ and $Y(S=0, U)$.\n",
        "\n",
        "Identification is the process where we reduce these equations involving unobserved variables to observed data."
      ]
    },
    {
      "cell_type": "markdown",
      "source": [
        "If we have $U \\perp S$, then we can use descriptive variables to estimate the treatment effect.\n",
        "\n",
        "#### Formal derivation\n",
        "\n",
        "$$\n",
        "Y(S, U) = \\alpha_0 + \\alpha_1 S + U\n",
        "$$\n",
        "\n",
        "Equivalent to:\n",
        "$U \\perp S | \\emptyset$\n"
      ],
      "metadata": {
        "id": "jySQeb5EUou8"
      }
    },
    {
      "cell_type": "markdown",
      "source": [
        "If we have a non-empty set of control variables $C$, only by conditioning on $C$ we can make $U$ and $S$ independent.\n",
        "\n",
        "$U \\perp S | C$\n",
        "\n",
        "We can have\n",
        "$$\n",
        "\\mathbb{E}[U \\mid S, C] = \\mathbb{E}[U \\mid C]\n",
        "$$\n",
        "\n",
        "$$\n",
        "\\begin{aligned}\n",
        "V & \\equiv U-E[U \\mid S, C] \\\\\n",
        "& =U-E[U \\mid C] \\\\\n",
        "& =U-\\left(\\gamma_0+\\gamma_1 C\\right)\n",
        "\\end{aligned}\n",
        "$$\n",
        "\n",
        "$$\n",
        "U = V + \\gamma_0 + \\gamma_1 C\n",
        "$$\n",
        "\n",
        "\n",
        "$$\n",
        "\\begin{aligned}\n",
        "Y(S, U) & = \\alpha_0 + \\alpha_1 S + V + \\gamma_0 + \\gamma_1 C \\\\\n",
        "        & = (\\alpha_0 + \\gamma_0) + \\alpha_1 S + \\gamma_1 C + V \\\\\n",
        "        & = \\tilde{\\alpha}_0 + \\alpha_1 S + \\tilde{\\alpha}_2 C + V\n",
        "\\end{aligned}\n",
        "$$\n",
        "\n",
        "We peeled off the effect of $C$ from the $U$.\n",
        "\n",
        "\n"
      ],
      "metadata": {
        "id": "HsYQQX4kU3EX"
      }
    },
    {
      "cell_type": "markdown",
      "source": [
        "#### Conditional Independence Test"
      ],
      "metadata": {
        "id": "xLNBQPwnVwrP"
      }
    },
    {
      "cell_type": "markdown",
      "source": [
        "If we know that if we have $U \\perp S | C$, and $U \\mid C$ is linear, then we can use the control variables to estimate the treatment effect.\n",
        "\n",
        "How should we test the assumption?\n",
        "\n",
        "1. Regression: Regress $U$ on $S$ given $C$.\n",
        "\n",
        "Given $C$, we can test if $\\gamma_1$ is statistically different from 0.\n",
        "$$\n",
        "U = \\gamma_0 + \\gamma_1 S+ \\gamma_2 C + \\epsilon\n",
        "$$\n",
        "\n",
        "\n",
        "2. Partial Correlation (continuous)\n",
        "\n",
        "$$\n",
        "r_{X Y \\mid Z}=\\frac{r_{X Y}-r_{X Z} \\cdot r_{Y Z}}{\\sqrt{\\left(1-r_{X Z}^2\\right)\\left(1-r_{Y Z}^2\\right)}}\n",
        "$$\n",
        "\n",
        "If we have CI, then $r_{S U \\mid C} = 0$.\n",
        "\n",
        "High-dim continuous CI test is non-trivial."
      ],
      "metadata": {
        "id": "Q0mMFn4iVyPw"
      }
    },
    {
      "cell_type": "code",
      "source": [
        "# simulate dependent variables\n",
        "X_dep = np.random.randint(1, 10, 1000)\n",
        "Y_dep = 2 * X_dep + np.random.normal(0, 1, 1000)\n",
        "Z_dep = 2 * X_dep + np.random.normal(0, 1, 1000)\n",
        "\n",
        "# create datafrane\n",
        "df = pd.DataFrame({\n",
        "    'Y_dep': Y_dep,\n",
        "    'X_dep': X_dep,\n",
        "    'Z_dep': Z_dep\n",
        "})\n",
        "\n",
        "ols=sm.ols(formula='Y_dep~Z_dep', data=df).fit()\n",
        "ols.summary()"
      ],
      "metadata": {
        "colab": {
          "base_uri": "https://localhost:8080/",
          "height": 452
        },
        "id": "3IdZNep3XIso",
        "outputId": "85dc8d1d-4f0b-41ee-bfb6-8c3b27bebcaa"
      },
      "execution_count": 12,
      "outputs": [
        {
          "output_type": "execute_result",
          "data": {
            "text/plain": [
              "<class 'statsmodels.iolib.summary.Summary'>\n",
              "\"\"\"\n",
              "                            OLS Regression Results                            \n",
              "==============================================================================\n",
              "Dep. Variable:                  Y_dep   R-squared:                       0.938\n",
              "Model:                            OLS   Adj. R-squared:                  0.938\n",
              "Method:                 Least Squares   F-statistic:                 1.503e+04\n",
              "Date:                Thu, 03 Apr 2025   Prob (F-statistic):               0.00\n",
              "Time:                        20:39:22   Log-Likelihood:                -1737.5\n",
              "No. Observations:                1000   AIC:                             3479.\n",
              "Df Residuals:                     998   BIC:                             3489.\n",
              "Df Model:                           1                                         \n",
              "Covariance Type:            nonrobust                                         \n",
              "==============================================================================\n",
              "                 coef    std err          t      P>|t|      [0.025      0.975]\n",
              "------------------------------------------------------------------------------\n",
              "Intercept      0.2066      0.089      2.314      0.021       0.031       0.382\n",
              "Z_dep          0.9755      0.008    122.594      0.000       0.960       0.991\n",
              "==============================================================================\n",
              "Omnibus:                        1.847   Durbin-Watson:                   2.102\n",
              "Prob(Omnibus):                  0.397   Jarque-Bera (JB):                1.820\n",
              "Skew:                           0.025   Prob(JB):                        0.402\n",
              "Kurtosis:                       3.203   Cond. No.                         23.2\n",
              "==============================================================================\n",
              "\n",
              "Notes:\n",
              "[1] Standard Errors assume that the covariance matrix of the errors is correctly specified.\n",
              "\"\"\""
            ],
            "text/html": [
              "<table class=\"simpletable\">\n",
              "<caption>OLS Regression Results</caption>\n",
              "<tr>\n",
              "  <th>Dep. Variable:</th>          <td>Y_dep</td>      <th>  R-squared:         </th> <td>   0.938</td> \n",
              "</tr>\n",
              "<tr>\n",
              "  <th>Model:</th>                   <td>OLS</td>       <th>  Adj. R-squared:    </th> <td>   0.938</td> \n",
              "</tr>\n",
              "<tr>\n",
              "  <th>Method:</th>             <td>Least Squares</td>  <th>  F-statistic:       </th> <td>1.503e+04</td>\n",
              "</tr>\n",
              "<tr>\n",
              "  <th>Date:</th>             <td>Thu, 03 Apr 2025</td> <th>  Prob (F-statistic):</th>  <td>  0.00</td>  \n",
              "</tr>\n",
              "<tr>\n",
              "  <th>Time:</th>                 <td>20:39:22</td>     <th>  Log-Likelihood:    </th> <td> -1737.5</td> \n",
              "</tr>\n",
              "<tr>\n",
              "  <th>No. Observations:</th>      <td>  1000</td>      <th>  AIC:               </th> <td>   3479.</td> \n",
              "</tr>\n",
              "<tr>\n",
              "  <th>Df Residuals:</th>          <td>   998</td>      <th>  BIC:               </th> <td>   3489.</td> \n",
              "</tr>\n",
              "<tr>\n",
              "  <th>Df Model:</th>              <td>     1</td>      <th>                     </th>     <td> </td>    \n",
              "</tr>\n",
              "<tr>\n",
              "  <th>Covariance Type:</th>      <td>nonrobust</td>    <th>                     </th>     <td> </td>    \n",
              "</tr>\n",
              "</table>\n",
              "<table class=\"simpletable\">\n",
              "<tr>\n",
              "      <td></td>         <th>coef</th>     <th>std err</th>      <th>t</th>      <th>P>|t|</th>  <th>[0.025</th>    <th>0.975]</th>  \n",
              "</tr>\n",
              "<tr>\n",
              "  <th>Intercept</th> <td>    0.2066</td> <td>    0.089</td> <td>    2.314</td> <td> 0.021</td> <td>    0.031</td> <td>    0.382</td>\n",
              "</tr>\n",
              "<tr>\n",
              "  <th>Z_dep</th>     <td>    0.9755</td> <td>    0.008</td> <td>  122.594</td> <td> 0.000</td> <td>    0.960</td> <td>    0.991</td>\n",
              "</tr>\n",
              "</table>\n",
              "<table class=\"simpletable\">\n",
              "<tr>\n",
              "  <th>Omnibus:</th>       <td> 1.847</td> <th>  Durbin-Watson:     </th> <td>   2.102</td>\n",
              "</tr>\n",
              "<tr>\n",
              "  <th>Prob(Omnibus):</th> <td> 0.397</td> <th>  Jarque-Bera (JB):  </th> <td>   1.820</td>\n",
              "</tr>\n",
              "<tr>\n",
              "  <th>Skew:</th>          <td> 0.025</td> <th>  Prob(JB):          </th> <td>   0.402</td>\n",
              "</tr>\n",
              "<tr>\n",
              "  <th>Kurtosis:</th>      <td> 3.203</td> <th>  Cond. No.          </th> <td>    23.2</td>\n",
              "</tr>\n",
              "</table><br/><br/>Notes:<br/>[1] Standard Errors assume that the covariance matrix of the errors is correctly specified."
            ],
            "text/latex": "\\begin{center}\n\\begin{tabular}{lclc}\n\\toprule\n\\textbf{Dep. Variable:}    &      Y\\_dep      & \\textbf{  R-squared:         } &     0.938   \\\\\n\\textbf{Model:}            &       OLS        & \\textbf{  Adj. R-squared:    } &     0.938   \\\\\n\\textbf{Method:}           &  Least Squares   & \\textbf{  F-statistic:       } & 1.503e+04   \\\\\n\\textbf{Date:}             & Thu, 03 Apr 2025 & \\textbf{  Prob (F-statistic):} &     0.00    \\\\\n\\textbf{Time:}             &     20:39:22     & \\textbf{  Log-Likelihood:    } &   -1737.5   \\\\\n\\textbf{No. Observations:} &        1000      & \\textbf{  AIC:               } &     3479.   \\\\\n\\textbf{Df Residuals:}     &         998      & \\textbf{  BIC:               } &     3489.   \\\\\n\\textbf{Df Model:}         &           1      & \\textbf{                     } &             \\\\\n\\textbf{Covariance Type:}  &    nonrobust     & \\textbf{                     } &             \\\\\n\\bottomrule\n\\end{tabular}\n\\begin{tabular}{lcccccc}\n                   & \\textbf{coef} & \\textbf{std err} & \\textbf{t} & \\textbf{P$> |$t$|$} & \\textbf{[0.025} & \\textbf{0.975]}  \\\\\n\\midrule\n\\textbf{Intercept} &       0.2066  &        0.089     &     2.314  &         0.021        &        0.031    &        0.382     \\\\\n\\textbf{Z\\_dep}    &       0.9755  &        0.008     &   122.594  &         0.000        &        0.960    &        0.991     \\\\\n\\bottomrule\n\\end{tabular}\n\\begin{tabular}{lclc}\n\\textbf{Omnibus:}       &  1.847 & \\textbf{  Durbin-Watson:     } &    2.102  \\\\\n\\textbf{Prob(Omnibus):} &  0.397 & \\textbf{  Jarque-Bera (JB):  } &    1.820  \\\\\n\\textbf{Skew:}          &  0.025 & \\textbf{  Prob(JB):          } &    0.402  \\\\\n\\textbf{Kurtosis:}      &  3.203 & \\textbf{  Cond. No.          } &     23.2  \\\\\n\\bottomrule\n\\end{tabular}\n%\\caption{OLS Regression Results}\n\\end{center}\n\nNotes: \\newline\n [1] Standard Errors assume that the covariance matrix of the errors is correctly specified."
          },
          "metadata": {},
          "execution_count": 12
        }
      ]
    },
    {
      "cell_type": "code",
      "source": [
        "ols=sm.ols(formula='Y_dep~Z_dep+X_dep', data=df).fit()\n",
        "ols.summary()"
      ],
      "metadata": {
        "colab": {
          "base_uri": "https://localhost:8080/",
          "height": 473
        },
        "id": "DqS1a7RnYUgJ",
        "outputId": "5aa39af5-af93-4a84-f8ff-aba31824e24d"
      },
      "execution_count": 13,
      "outputs": [
        {
          "output_type": "execute_result",
          "data": {
            "text/plain": [
              "<class 'statsmodels.iolib.summary.Summary'>\n",
              "\"\"\"\n",
              "                            OLS Regression Results                            \n",
              "==============================================================================\n",
              "Dep. Variable:                  Y_dep   R-squared:                       0.968\n",
              "Model:                            OLS   Adj. R-squared:                  0.968\n",
              "Method:                 Least Squares   F-statistic:                 1.529e+04\n",
              "Date:                Thu, 03 Apr 2025   Prob (F-statistic):               0.00\n",
              "Time:                        20:39:40   Log-Likelihood:                -1397.8\n",
              "No. Observations:                1000   AIC:                             2802.\n",
              "Df Residuals:                     997   BIC:                             2816.\n",
              "Df Model:                           2                                         \n",
              "Covariance Type:            nonrobust                                         \n",
              "==============================================================================\n",
              "                 coef    std err          t      P>|t|      [0.025      0.975]\n",
              "------------------------------------------------------------------------------\n",
              "Intercept     -0.0469      0.064     -0.731      0.465      -0.173       0.079\n",
              "Z_dep          0.0199      0.031      0.636      0.525      -0.041       0.081\n",
              "X_dep          1.9671      0.063     31.140      0.000       1.843       2.091\n",
              "==============================================================================\n",
              "Omnibus:                        2.687   Durbin-Watson:                   2.042\n",
              "Prob(Omnibus):                  0.261   Jarque-Bera (JB):                2.569\n",
              "Skew:                          -0.094   Prob(JB):                        0.277\n",
              "Kurtosis:                       3.162   Cond. No.                         29.0\n",
              "==============================================================================\n",
              "\n",
              "Notes:\n",
              "[1] Standard Errors assume that the covariance matrix of the errors is correctly specified.\n",
              "\"\"\""
            ],
            "text/html": [
              "<table class=\"simpletable\">\n",
              "<caption>OLS Regression Results</caption>\n",
              "<tr>\n",
              "  <th>Dep. Variable:</th>          <td>Y_dep</td>      <th>  R-squared:         </th> <td>   0.968</td> \n",
              "</tr>\n",
              "<tr>\n",
              "  <th>Model:</th>                   <td>OLS</td>       <th>  Adj. R-squared:    </th> <td>   0.968</td> \n",
              "</tr>\n",
              "<tr>\n",
              "  <th>Method:</th>             <td>Least Squares</td>  <th>  F-statistic:       </th> <td>1.529e+04</td>\n",
              "</tr>\n",
              "<tr>\n",
              "  <th>Date:</th>             <td>Thu, 03 Apr 2025</td> <th>  Prob (F-statistic):</th>  <td>  0.00</td>  \n",
              "</tr>\n",
              "<tr>\n",
              "  <th>Time:</th>                 <td>20:39:40</td>     <th>  Log-Likelihood:    </th> <td> -1397.8</td> \n",
              "</tr>\n",
              "<tr>\n",
              "  <th>No. Observations:</th>      <td>  1000</td>      <th>  AIC:               </th> <td>   2802.</td> \n",
              "</tr>\n",
              "<tr>\n",
              "  <th>Df Residuals:</th>          <td>   997</td>      <th>  BIC:               </th> <td>   2816.</td> \n",
              "</tr>\n",
              "<tr>\n",
              "  <th>Df Model:</th>              <td>     2</td>      <th>                     </th>     <td> </td>    \n",
              "</tr>\n",
              "<tr>\n",
              "  <th>Covariance Type:</th>      <td>nonrobust</td>    <th>                     </th>     <td> </td>    \n",
              "</tr>\n",
              "</table>\n",
              "<table class=\"simpletable\">\n",
              "<tr>\n",
              "      <td></td>         <th>coef</th>     <th>std err</th>      <th>t</th>      <th>P>|t|</th>  <th>[0.025</th>    <th>0.975]</th>  \n",
              "</tr>\n",
              "<tr>\n",
              "  <th>Intercept</th> <td>   -0.0469</td> <td>    0.064</td> <td>   -0.731</td> <td> 0.465</td> <td>   -0.173</td> <td>    0.079</td>\n",
              "</tr>\n",
              "<tr>\n",
              "  <th>Z_dep</th>     <td>    0.0199</td> <td>    0.031</td> <td>    0.636</td> <td> 0.525</td> <td>   -0.041</td> <td>    0.081</td>\n",
              "</tr>\n",
              "<tr>\n",
              "  <th>X_dep</th>     <td>    1.9671</td> <td>    0.063</td> <td>   31.140</td> <td> 0.000</td> <td>    1.843</td> <td>    2.091</td>\n",
              "</tr>\n",
              "</table>\n",
              "<table class=\"simpletable\">\n",
              "<tr>\n",
              "  <th>Omnibus:</th>       <td> 2.687</td> <th>  Durbin-Watson:     </th> <td>   2.042</td>\n",
              "</tr>\n",
              "<tr>\n",
              "  <th>Prob(Omnibus):</th> <td> 0.261</td> <th>  Jarque-Bera (JB):  </th> <td>   2.569</td>\n",
              "</tr>\n",
              "<tr>\n",
              "  <th>Skew:</th>          <td>-0.094</td> <th>  Prob(JB):          </th> <td>   0.277</td>\n",
              "</tr>\n",
              "<tr>\n",
              "  <th>Kurtosis:</th>      <td> 3.162</td> <th>  Cond. No.          </th> <td>    29.0</td>\n",
              "</tr>\n",
              "</table><br/><br/>Notes:<br/>[1] Standard Errors assume that the covariance matrix of the errors is correctly specified."
            ],
            "text/latex": "\\begin{center}\n\\begin{tabular}{lclc}\n\\toprule\n\\textbf{Dep. Variable:}    &      Y\\_dep      & \\textbf{  R-squared:         } &     0.968   \\\\\n\\textbf{Model:}            &       OLS        & \\textbf{  Adj. R-squared:    } &     0.968   \\\\\n\\textbf{Method:}           &  Least Squares   & \\textbf{  F-statistic:       } & 1.529e+04   \\\\\n\\textbf{Date:}             & Thu, 03 Apr 2025 & \\textbf{  Prob (F-statistic):} &     0.00    \\\\\n\\textbf{Time:}             &     20:39:40     & \\textbf{  Log-Likelihood:    } &   -1397.8   \\\\\n\\textbf{No. Observations:} &        1000      & \\textbf{  AIC:               } &     2802.   \\\\\n\\textbf{Df Residuals:}     &         997      & \\textbf{  BIC:               } &     2816.   \\\\\n\\textbf{Df Model:}         &           2      & \\textbf{                     } &             \\\\\n\\textbf{Covariance Type:}  &    nonrobust     & \\textbf{                     } &             \\\\\n\\bottomrule\n\\end{tabular}\n\\begin{tabular}{lcccccc}\n                   & \\textbf{coef} & \\textbf{std err} & \\textbf{t} & \\textbf{P$> |$t$|$} & \\textbf{[0.025} & \\textbf{0.975]}  \\\\\n\\midrule\n\\textbf{Intercept} &      -0.0469  &        0.064     &    -0.731  &         0.465        &       -0.173    &        0.079     \\\\\n\\textbf{Z\\_dep}    &       0.0199  &        0.031     &     0.636  &         0.525        &       -0.041    &        0.081     \\\\\n\\textbf{X\\_dep}    &       1.9671  &        0.063     &    31.140  &         0.000        &        1.843    &        2.091     \\\\\n\\bottomrule\n\\end{tabular}\n\\begin{tabular}{lclc}\n\\textbf{Omnibus:}       &  2.687 & \\textbf{  Durbin-Watson:     } &    2.042  \\\\\n\\textbf{Prob(Omnibus):} &  0.261 & \\textbf{  Jarque-Bera (JB):  } &    2.569  \\\\\n\\textbf{Skew:}          & -0.094 & \\textbf{  Prob(JB):          } &    0.277  \\\\\n\\textbf{Kurtosis:}      &  3.162 & \\textbf{  Cond. No.          } &     29.0  \\\\\n\\bottomrule\n\\end{tabular}\n%\\caption{OLS Regression Results}\n\\end{center}\n\nNotes: \\newline\n [1] Standard Errors assume that the covariance matrix of the errors is correctly specified."
          },
          "metadata": {},
          "execution_count": 13
        }
      ]
    },
    {
      "cell_type": "markdown",
      "metadata": {
        "id": "m3S9uTpDgtTg"
      },
      "source": [
        "####  Simulation\n",
        "\n",
        "Using the old example, we will show how computing only association based on observational data does not give us the true underlying causal effect, and how *control variables* can help us identify these parameters.\n",
        "\n",
        "- $Y$ is continuous income.\n",
        "- $S$ is binary college status. (1 = went to college)\n",
        "- $U$ is binary family status. (1 = wealthy family)\n",
        "\n",
        "We can see that the true causal effect from college status to income of people will be confounded by the third variable on family status as it is a common cause of both the treatment and outcome, i.e., a wealthy family leads to higher income and more likely to go to college."
      ]
    },
    {
      "cell_type": "code",
      "execution_count": 4,
      "metadata": {
        "colab": {
          "base_uri": "https://localhost:8080/",
          "height": 516
        },
        "id": "uDMmaTt7Gj4a",
        "outputId": "770e013c-0e5f-4f6a-eff2-99f18ac27425"
      },
      "outputs": [
        {
          "output_type": "display_data",
          "data": {
            "text/plain": [
              "<Figure size 640x480 with 1 Axes>"
            ],
            "image/png": "[encoded data removed]"
          },
          "metadata": {}
        }
      ],
      "source": [
        "import networkx as nx\n",
        "import matplotlib.pyplot as plt\n",
        "\n",
        "\n",
        "# Create a directed graph\n",
        "G = nx.DiGraph()\n",
        "\n",
        "# Add nodes\n",
        "G.add_node(\"Family Status (U)\")\n",
        "G.add_node(\"College (S)\")\n",
        "G.add_node(\"Income (Y)\")\n",
        "\n",
        "# Add directed edges representing causal relationships\n",
        "G.add_edge(\"Family Status (U)\", \"College (S)\")\n",
        "G.add_edge(\"Family Status (U)\", \"Income (Y)\")\n",
        "G.add_edge(\"College (S)\", \"Income (Y)\")\n",
        "\n",
        "# Draw the graph\n",
        "pos = {\n",
        "    \"Family Status (U)\": (0, 1),\n",
        "    \"College (S)\": (-1, 0),\n",
        "    \"Income (Y)\": (1, 0),\n",
        "}\n",
        "\n",
        "labels = {\n",
        "    (\"Family Status (U)\", \"College (S)\"): \"Positive\",\n",
        "    (\"Family Status (U)\", \"Income (Y)\"): \"Positive\",\n",
        "    (\"College (S)\", \"Income (Y)\"): \"Positive\",\n",
        "}\n",
        "\n",
        "nx.draw(G, pos, with_labels=True, node_size=3000, node_color=\"lightblue\", font_size=10, font_weight=\"bold\", arrows=True)\n",
        "nx.draw_networkx_edge_labels(G, pos, edge_labels=labels, font_color=\"red\")\n",
        "plt.show()"
      ]
    },
    {
      "cell_type": "markdown",
      "metadata": {
        "id": "SXBXgmUlGnG1"
      },
      "source": [
        "Now, let's generate some sythetic data corresponding to this data generative process."
      ]
    },
    {
      "cell_type": "code",
      "execution_count": 5,
      "metadata": {
        "id": "BtLezqmUHVMP"
      },
      "outputs": [],
      "source": [
        "# Step 1: Simulate family status (rich=1, poor=0)\n",
        "np.random.seed(42)\n",
        "n = 1000\n",
        "family_status = np.random.binomial(1, 0.4, n)  # 40% rich, 60% poor\n",
        "\n",
        "# Step 2: Simulate college attendance based on family status (rich more likely to attend college)\n",
        "college = np.random.binomial(1, 0.7 * family_status + 0.3 * (1 - family_status), n)\n",
        "\n",
        "# Step 3: Simulate income based on family status and college attendance\n",
        "\n",
        "noise = np.random.normal(0, 5000, n)  # Noise to add to income\n",
        "income_observe = (50000 + 30000 * college + 20000 * family_status + noise)\n",
        "income_college = (50000 + 30000 * 1 + 20000 * family_status + noise)\n",
        "\n",
        "# For people who went to college (treated group), compared to the untreated,\n",
        "# they would have higher income in the counterfactual world where they did not go to college\n",
        "income_no_college = (50000 + 30000 * 0 + 10000 * college + 20000 * family_status + noise)\n",
        "\n",
        "# Create a DataFrame for clarity\n",
        "df = pd.DataFrame({\n",
        "    'Family_Status': family_status,  # 1 = rich, 0 = poor\n",
        "    'College': college,  # 1 = went to college, 0 = did not go to college\n",
        "    'Income_Observe': income_observe,\n",
        "    'Income_College': income_college,\n",
        "    'Income_No_College': income_no_college\n",
        "})"
      ]
    },
    {
      "cell_type": "markdown",
      "metadata": {
        "id": "98FlSYW8HXx9"
      },
      "source": [
        "We can calculate the true ATE, ATT, and ATU based on the perfect knowledge we have on the observed and conuterfactual outcomes."
      ]
    },
    {
      "cell_type": "code",
      "execution_count": 6,
      "metadata": {
        "colab": {
          "base_uri": "https://localhost:8080/"
        },
        "id": "kKoOVxJZh4-N",
        "outputId": "ec9e2a56-e22a-4f2e-b6d3-eb3ccc169515"
      },
      "outputs": [
        {
          "output_type": "stream",
          "name": "stdout",
          "text": [
            "TRUE Average Treatment Effect (ATE): 25560.00\n",
            "TRUE Average Treatment Effect on the Treated (ATT): 20000.00\n",
            "TRUE Average Treatment Effect on the Untreated (ATU): 30000.00\n"
          ]
        }
      ],
      "source": [
        "# Step 4: Compute ATE, ATT, ATU\n",
        "# TRUE ATE:\n",
        "ATE = df['Income_College'].mean() - df['Income_No_College'].mean()\n",
        "\n",
        "# ATT:\n",
        "ATT = df[(df['College'] == 1)]['Income_College'].mean() - df[(df['College'] == 1)]['Income_No_College'].mean()\n",
        "\n",
        "# ATU:\n",
        "ATU = df[(df['College'] == 0)]['Income_College'].mean() - df[(df['College'] == 0)]['Income_No_College'].mean()\n",
        "\n",
        "# Print the results\n",
        "print(f\"TRUE Average Treatment Effect (ATE): {ATE:.2f}\")\n",
        "print(f\"TRUE Average Treatment Effect on the Treated (ATT): {ATT:.2f}\")\n",
        "print(f\"TRUE Average Treatment Effect on the Untreated (ATU): {ATU:.2f}\")"
      ]
    },
    {
      "cell_type": "markdown",
      "metadata": {
        "id": "mKCsEhi_Htox"
      },
      "source": [
        "What happens if we only have access to the observed treatment and outcome with hidden confounding?"
      ]
    },
    {
      "cell_type": "code",
      "execution_count": 7,
      "metadata": {
        "colab": {
          "base_uri": "https://localhost:8080/"
        },
        "id": "MXKRdWD9iEfG",
        "outputId": "2cac9003-cb7b-4a75-db21-b32a30ced6dd"
      },
      "outputs": [
        {
          "output_type": "stream",
          "name": "stdout",
          "text": [
            "Biased Average Treatment Effect (ATE): 37639.89\n"
          ]
        }
      ],
      "source": [
        "# Step 5: Compute association by conditioning\n",
        "# Biased ATE using only what was obserevd:\n",
        "Association = df[df['College'] == 1]['Income_Observe'].mean() - df[df['College'] == 0]['Income_Observe'].mean()\n",
        "\n",
        "# Print the results\n",
        "print(f\"Biased Average Treatment Effect (ATE): {Association:.2f}\")"
      ]
    },
    {
      "cell_type": "markdown",
      "metadata": {
        "id": "W79c8pZFH266"
      },
      "source": [
        "If we have access to potential confounders, we can condition them. Conditional independence helps us here to establish the assumption."
      ]
    },
    {
      "cell_type": "code",
      "execution_count": 8,
      "metadata": {
        "colab": {
          "base_uri": "https://localhost:8080/"
        },
        "id": "xUZ7hEAJDtqt",
        "outputId": "f9e3b765-8dc7-4a10-bce0-0900a0c45dcd"
      },
      "outputs": [
        {
          "output_type": "stream",
          "name": "stdout",
          "text": [
            "Association for those with family_status = 1: 30553.75\n",
            "Association for those with family_status = 0: 30308.08\n"
          ]
        }
      ],
      "source": [
        "# Step 6: Condition on confounder - family status\n",
        "\n",
        "Association = df[(df['College'] == 1) & (df['Family_Status'] == 1)]['Income_Observe'].mean() - df[(df['College'] == 0) & (df['Family_Status'] == 1)]['Income_Observe'].mean()\n",
        "\n",
        "# Print the results\n",
        "print(f\"Association for those with family_status = 1: {Association:.2f}\")\n",
        "\n",
        "Association = df[(df['College'] == 1) & (df['Family_Status'] == 0)]['Income_Observe'].mean() - df[(df['College'] == 0) & (df['Family_Status'] == 0)]['Income_Observe'].mean()\n",
        "\n",
        "# Print the results\n",
        "print(f\"Association for those with family_status = 0: {Association:.2f}\")"
      ]
    },
    {
      "cell_type": "markdown",
      "metadata": {
        "id": "gEBhEyXzlvPV"
      },
      "source": [
        "Without adding the confounder to our regression setup, the result is biased similar to the conditional expectation without conditioning on the confounder."
      ]
    },
    {
      "cell_type": "code",
      "execution_count": 9,
      "metadata": {
        "colab": {
          "base_uri": "https://localhost:8080/",
          "height": 452
        },
        "id": "Ow7282Bn4phM",
        "outputId": "bcb30ab9-4d6d-48e7-834c-8d8dfadbdfe7"
      },
      "outputs": [
        {
          "output_type": "execute_result",
          "data": {
            "text/plain": [
              "<class 'statsmodels.iolib.summary.Summary'>\n",
              "\"\"\"\n",
              "                            OLS Regression Results                            \n",
              "==============================================================================\n",
              "Dep. Variable:         Income_Observe   R-squared:                       0.771\n",
              "Model:                            OLS   Adj. R-squared:                  0.771\n",
              "Method:                 Least Squares   F-statistic:                     3357.\n",
              "Date:                Thu, 03 Apr 2025   Prob (F-statistic):          1.55e-321\n",
              "Time:                        20:36:40   Log-Likelihood:                -10649.\n",
              "No. Observations:                1000   AIC:                         2.130e+04\n",
              "Df Residuals:                     998   BIC:                         2.131e+04\n",
              "Df Model:                           1                                         \n",
              "Covariance Type:            nonrobust                                         \n",
              "==============================================================================\n",
              "                 coef    std err          t      P>|t|      [0.025      0.975]\n",
              "------------------------------------------------------------------------------\n",
              "Intercept   5.441e+04    432.902    125.692      0.000    5.36e+04    5.53e+04\n",
              "College     3.764e+04    649.679     57.936      0.000    3.64e+04    3.89e+04\n",
              "==============================================================================\n",
              "Omnibus:                       72.502   Durbin-Watson:                   1.953\n",
              "Prob(Omnibus):                  0.000   Jarque-Bera (JB):               30.972\n",
              "Skew:                           0.209   Prob(JB):                     1.88e-07\n",
              "Kurtosis:                       2.246   Cond. No.                         2.51\n",
              "==============================================================================\n",
              "\n",
              "Notes:\n",
              "[1] Standard Errors assume that the covariance matrix of the errors is correctly specified.\n",
              "\"\"\""
            ],
            "text/html": [
              "<table class=\"simpletable\">\n",
              "<caption>OLS Regression Results</caption>\n",
              "<tr>\n",
              "  <th>Dep. Variable:</th>     <td>Income_Observe</td>  <th>  R-squared:         </th> <td>   0.771</td> \n",
              "</tr>\n",
              "<tr>\n",
              "  <th>Model:</th>                   <td>OLS</td>       <th>  Adj. R-squared:    </th> <td>   0.771</td> \n",
              "</tr>\n",
              "<tr>\n",
              "  <th>Method:</th>             <td>Least Squares</td>  <th>  F-statistic:       </th> <td>   3357.</td> \n",
              "</tr>\n",
              "<tr>\n",
              "  <th>Date:</th>             <td>Thu, 03 Apr 2025</td> <th>  Prob (F-statistic):</th> <td>1.55e-321</td>\n",
              "</tr>\n",
              "<tr>\n",
              "  <th>Time:</th>                 <td>20:36:40</td>     <th>  Log-Likelihood:    </th> <td> -10649.</td> \n",
              "</tr>\n",
              "<tr>\n",
              "  <th>No. Observations:</th>      <td>  1000</td>      <th>  AIC:               </th> <td>2.130e+04</td>\n",
              "</tr>\n",
              "<tr>\n",
              "  <th>Df Residuals:</th>          <td>   998</td>      <th>  BIC:               </th> <td>2.131e+04</td>\n",
              "</tr>\n",
              "<tr>\n",
              "  <th>Df Model:</th>              <td>     1</td>      <th>                     </th>     <td> </td>    \n",
              "</tr>\n",
              "<tr>\n",
              "  <th>Covariance Type:</th>      <td>nonrobust</td>    <th>                     </th>     <td> </td>    \n",
              "</tr>\n",
              "</table>\n",
              "<table class=\"simpletable\">\n",
              "<tr>\n",
              "      <td></td>         <th>coef</th>     <th>std err</th>      <th>t</th>      <th>P>|t|</th>  <th>[0.025</th>    <th>0.975]</th>  \n",
              "</tr>\n",
              "<tr>\n",
              "  <th>Intercept</th> <td> 5.441e+04</td> <td>  432.902</td> <td>  125.692</td> <td> 0.000</td> <td> 5.36e+04</td> <td> 5.53e+04</td>\n",
              "</tr>\n",
              "<tr>\n",
              "  <th>College</th>   <td> 3.764e+04</td> <td>  649.679</td> <td>   57.936</td> <td> 0.000</td> <td> 3.64e+04</td> <td> 3.89e+04</td>\n",
              "</tr>\n",
              "</table>\n",
              "<table class=\"simpletable\">\n",
              "<tr>\n",
              "  <th>Omnibus:</th>       <td>72.502</td> <th>  Durbin-Watson:     </th> <td>   1.953</td>\n",
              "</tr>\n",
              "<tr>\n",
              "  <th>Prob(Omnibus):</th> <td> 0.000</td> <th>  Jarque-Bera (JB):  </th> <td>  30.972</td>\n",
              "</tr>\n",
              "<tr>\n",
              "  <th>Skew:</th>          <td> 0.209</td> <th>  Prob(JB):          </th> <td>1.88e-07</td>\n",
              "</tr>\n",
              "<tr>\n",
              "  <th>Kurtosis:</th>      <td> 2.246</td> <th>  Cond. No.          </th> <td>    2.51</td>\n",
              "</tr>\n",
              "</table><br/><br/>Notes:<br/>[1] Standard Errors assume that the covariance matrix of the errors is correctly specified."
            ],
            "text/latex": "\\begin{center}\n\\begin{tabular}{lclc}\n\\toprule\n\\textbf{Dep. Variable:}    & Income\\_Observe  & \\textbf{  R-squared:         } &     0.771   \\\\\n\\textbf{Model:}            &       OLS        & \\textbf{  Adj. R-squared:    } &     0.771   \\\\\n\\textbf{Method:}           &  Least Squares   & \\textbf{  F-statistic:       } &     3357.   \\\\\n\\textbf{Date:}             & Thu, 03 Apr 2025 & \\textbf{  Prob (F-statistic):} & 1.55e-321   \\\\\n\\textbf{Time:}             &     20:36:40     & \\textbf{  Log-Likelihood:    } &   -10649.   \\\\\n\\textbf{No. Observations:} &        1000      & \\textbf{  AIC:               } & 2.130e+04   \\\\\n\\textbf{Df Residuals:}     &         998      & \\textbf{  BIC:               } & 2.131e+04   \\\\\n\\textbf{Df Model:}         &           1      & \\textbf{                     } &             \\\\\n\\textbf{Covariance Type:}  &    nonrobust     & \\textbf{                     } &             \\\\\n\\bottomrule\n\\end{tabular}\n\\begin{tabular}{lcccccc}\n                   & \\textbf{coef} & \\textbf{std err} & \\textbf{t} & \\textbf{P$> |$t$|$} & \\textbf{[0.025} & \\textbf{0.975]}  \\\\\n\\midrule\n\\textbf{Intercept} &    5.441e+04  &      432.902     &   125.692  &         0.000        &     5.36e+04    &     5.53e+04     \\\\\n\\textbf{College}   &    3.764e+04  &      649.679     &    57.936  &         0.000        &     3.64e+04    &     3.89e+04     \\\\\n\\bottomrule\n\\end{tabular}\n\\begin{tabular}{lclc}\n\\textbf{Omnibus:}       & 72.502 & \\textbf{  Durbin-Watson:     } &    1.953  \\\\\n\\textbf{Prob(Omnibus):} &  0.000 & \\textbf{  Jarque-Bera (JB):  } &   30.972  \\\\\n\\textbf{Skew:}          &  0.209 & \\textbf{  Prob(JB):          } & 1.88e-07  \\\\\n\\textbf{Kurtosis:}      &  2.246 & \\textbf{  Cond. No.          } &     2.51  \\\\\n\\bottomrule\n\\end{tabular}\n%\\caption{OLS Regression Results}\n\\end{center}\n\nNotes: \\newline\n [1] Standard Errors assume that the covariance matrix of the errors is correctly specified."
          },
          "metadata": {},
          "execution_count": 9
        }
      ],
      "source": [
        "import statsmodels.formula.api as sm\n",
        "\n",
        "ols=sm.ols(formula='Income_Observe~College', data=df).fit()\n",
        "ols.summary()"
      ]
    },
    {
      "cell_type": "markdown",
      "metadata": {
        "id": "Lgbxo40KquFD"
      },
      "source": [
        "We can only identify it by adding the confounder to establish conditional independence."
      ]
    },
    {
      "cell_type": "code",
      "execution_count": 10,
      "metadata": {
        "colab": {
          "base_uri": "https://localhost:8080/",
          "height": 473
        },
        "id": "0RHzK9JY5Hzr",
        "outputId": "5365cc25-a8ab-401c-eb34-317dedb4c33a"
      },
      "outputs": [
        {
          "output_type": "execute_result",
          "data": {
            "text/plain": [
              "<class 'statsmodels.iolib.summary.Summary'>\n",
              "\"\"\"\n",
              "                            OLS Regression Results                            \n",
              "==============================================================================\n",
              "Dep. Variable:         Income_Observe   R-squared:                       0.947\n",
              "Model:                            OLS   Adj. R-squared:                  0.947\n",
              "Method:                 Least Squares   F-statistic:                     8981.\n",
              "Date:                Thu, 03 Apr 2025   Prob (F-statistic):               0.00\n",
              "Time:                        20:36:48   Log-Likelihood:                -9912.8\n",
              "No. Observations:                1000   AIC:                         1.983e+04\n",
              "Df Residuals:                     997   BIC:                         1.985e+04\n",
              "Df Model:                           2                                         \n",
              "Covariance Type:            nonrobust                                         \n",
              "=================================================================================\n",
              "                    coef    std err          t      P>|t|      [0.025      0.975]\n",
              "---------------------------------------------------------------------------------\n",
              "Intercept      4.996e+04    221.278    225.780      0.000    4.95e+04    5.04e+04\n",
              "College        3.041e+04    335.519     90.623      0.000    2.97e+04    3.11e+04\n",
              "Family_Status   1.98e+04    342.263     57.864      0.000    1.91e+04    2.05e+04\n",
              "==============================================================================\n",
              "Omnibus:                        1.170   Durbin-Watson:                   2.050\n",
              "Prob(Omnibus):                  0.557   Jarque-Bera (JB):                1.054\n",
              "Skew:                           0.025   Prob(JB):                        0.590\n",
              "Kurtosis:                       3.151   Cond. No.                         3.09\n",
              "==============================================================================\n",
              "\n",
              "Notes:\n",
              "[1] Standard Errors assume that the covariance matrix of the errors is correctly specified.\n",
              "\"\"\""
            ],
            "text/html": [
              "<table class=\"simpletable\">\n",
              "<caption>OLS Regression Results</caption>\n",
              "<tr>\n",
              "  <th>Dep. Variable:</th>     <td>Income_Observe</td>  <th>  R-squared:         </th> <td>   0.947</td> \n",
              "</tr>\n",
              "<tr>\n",
              "  <th>Model:</th>                   <td>OLS</td>       <th>  Adj. R-squared:    </th> <td>   0.947</td> \n",
              "</tr>\n",
              "<tr>\n",
              "  <th>Method:</th>             <td>Least Squares</td>  <th>  F-statistic:       </th> <td>   8981.</td> \n",
              "</tr>\n",
              "<tr>\n",
              "  <th>Date:</th>             <td>Thu, 03 Apr 2025</td> <th>  Prob (F-statistic):</th>  <td>  0.00</td>  \n",
              "</tr>\n",
              "<tr>\n",
              "  <th>Time:</th>                 <td>20:36:48</td>     <th>  Log-Likelihood:    </th> <td> -9912.8</td> \n",
              "</tr>\n",
              "<tr>\n",
              "  <th>No. Observations:</th>      <td>  1000</td>      <th>  AIC:               </th> <td>1.983e+04</td>\n",
              "</tr>\n",
              "<tr>\n",
              "  <th>Df Residuals:</th>          <td>   997</td>      <th>  BIC:               </th> <td>1.985e+04</td>\n",
              "</tr>\n",
              "<tr>\n",
              "  <th>Df Model:</th>              <td>     2</td>      <th>                     </th>     <td> </td>    \n",
              "</tr>\n",
              "<tr>\n",
              "  <th>Covariance Type:</th>      <td>nonrobust</td>    <th>                     </th>     <td> </td>    \n",
              "</tr>\n",
              "</table>\n",
              "<table class=\"simpletable\">\n",
              "<tr>\n",
              "        <td></td>           <th>coef</th>     <th>std err</th>      <th>t</th>      <th>P>|t|</th>  <th>[0.025</th>    <th>0.975]</th>  \n",
              "</tr>\n",
              "<tr>\n",
              "  <th>Intercept</th>     <td> 4.996e+04</td> <td>  221.278</td> <td>  225.780</td> <td> 0.000</td> <td> 4.95e+04</td> <td> 5.04e+04</td>\n",
              "</tr>\n",
              "<tr>\n",
              "  <th>College</th>       <td> 3.041e+04</td> <td>  335.519</td> <td>   90.623</td> <td> 0.000</td> <td> 2.97e+04</td> <td> 3.11e+04</td>\n",
              "</tr>\n",
              "<tr>\n",
              "  <th>Family_Status</th> <td>  1.98e+04</td> <td>  342.263</td> <td>   57.864</td> <td> 0.000</td> <td> 1.91e+04</td> <td> 2.05e+04</td>\n",
              "</tr>\n",
              "</table>\n",
              "<table class=\"simpletable\">\n",
              "<tr>\n",
              "  <th>Omnibus:</th>       <td> 1.170</td> <th>  Durbin-Watson:     </th> <td>   2.050</td>\n",
              "</tr>\n",
              "<tr>\n",
              "  <th>Prob(Omnibus):</th> <td> 0.557</td> <th>  Jarque-Bera (JB):  </th> <td>   1.054</td>\n",
              "</tr>\n",
              "<tr>\n",
              "  <th>Skew:</th>          <td> 0.025</td> <th>  Prob(JB):          </th> <td>   0.590</td>\n",
              "</tr>\n",
              "<tr>\n",
              "  <th>Kurtosis:</th>      <td> 3.151</td> <th>  Cond. No.          </th> <td>    3.09</td>\n",
              "</tr>\n",
              "</table><br/><br/>Notes:<br/>[1] Standard Errors assume that the covariance matrix of the errors is correctly specified."
            ],
            "text/latex": "\\begin{center}\n\\begin{tabular}{lclc}\n\\toprule\n\\textbf{Dep. Variable:}    & Income\\_Observe  & \\textbf{  R-squared:         } &     0.947   \\\\\n\\textbf{Model:}            &       OLS        & \\textbf{  Adj. R-squared:    } &     0.947   \\\\\n\\textbf{Method:}           &  Least Squares   & \\textbf{  F-statistic:       } &     8981.   \\\\\n\\textbf{Date:}             & Thu, 03 Apr 2025 & \\textbf{  Prob (F-statistic):} &     0.00    \\\\\n\\textbf{Time:}             &     20:36:48     & \\textbf{  Log-Likelihood:    } &   -9912.8   \\\\\n\\textbf{No. Observations:} &        1000      & \\textbf{  AIC:               } & 1.983e+04   \\\\\n\\textbf{Df Residuals:}     &         997      & \\textbf{  BIC:               } & 1.985e+04   \\\\\n\\textbf{Df Model:}         &           2      & \\textbf{                     } &             \\\\\n\\textbf{Covariance Type:}  &    nonrobust     & \\textbf{                     } &             \\\\\n\\bottomrule\n\\end{tabular}\n\\begin{tabular}{lcccccc}\n                        & \\textbf{coef} & \\textbf{std err} & \\textbf{t} & \\textbf{P$> |$t$|$} & \\textbf{[0.025} & \\textbf{0.975]}  \\\\\n\\midrule\n\\textbf{Intercept}      &    4.996e+04  &      221.278     &   225.780  &         0.000        &     4.95e+04    &     5.04e+04     \\\\\n\\textbf{College}        &    3.041e+04  &      335.519     &    90.623  &         0.000        &     2.97e+04    &     3.11e+04     \\\\\n\\textbf{Family\\_Status} &     1.98e+04  &      342.263     &    57.864  &         0.000        &     1.91e+04    &     2.05e+04     \\\\\n\\bottomrule\n\\end{tabular}\n\\begin{tabular}{lclc}\n\\textbf{Omnibus:}       &  1.170 & \\textbf{  Durbin-Watson:     } &    2.050  \\\\\n\\textbf{Prob(Omnibus):} &  0.557 & \\textbf{  Jarque-Bera (JB):  } &    1.054  \\\\\n\\textbf{Skew:}          &  0.025 & \\textbf{  Prob(JB):          } &    0.590  \\\\\n\\textbf{Kurtosis:}      &  3.151 & \\textbf{  Cond. No.          } &     3.09  \\\\\n\\bottomrule\n\\end{tabular}\n%\\caption{OLS Regression Results}\n\\end{center}\n\nNotes: \\newline\n [1] Standard Errors assume that the covariance matrix of the errors is correctly specified."
          },
          "metadata": {},
          "execution_count": 10
        }
      ],
      "source": [
        "ols=sm.ols(formula='Income_Observe~College+Family_Status', data=df).fit()\n",
        "ols.summary()"
      ]
    },
    {
      "cell_type": "markdown",
      "metadata": {
        "id": "0E19KQgEkFYk"
      },
      "source": [
        "## Other Miscellaneous Points"
      ]
    },
    {
      "cell_type": "markdown",
      "source": [
        "\n",
        "\n",
        "*   Kitchen-sink regression?\n",
        "*   Estimation?\n",
        "*   Identifying Assumptions?\n",
        "\n"
      ],
      "metadata": {
        "id": "rrEfx9mfVRsu"
      }
    }
  ],
  "metadata": {
    "colab": {
      "provenance": []
    },
    "kernelspec": {
      "display_name": "Python 3",
      "name": "python3"
    },
    "language_info": {
      "name": "python"
    }
  },
  "nbformat": 4,
  "nbformat_minor": 0
}